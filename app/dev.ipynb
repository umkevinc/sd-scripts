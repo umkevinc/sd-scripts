{
 "cells": [
  {
   "cell_type": "code",
   "execution_count": 5,
   "id": "9216da57-4b5c-48cd-a570-55738e62f7de",
   "metadata": {},
   "outputs": [],
   "source": [
    "pretrained_model_name_or_path = \"/home/gazai/MyPrograms/a1111/stable-diffusion-webui/models/Stable-diffusion/AnythingV5Ink_ink.safetensors\"\n",
    "dataset_config = \"/home/gazai/workspace/sd-scripts/configs/plu.toml\"\n",
    "outupt_dir = \"/home/gazai/opt/DATA/model_output\"\n",
    "model_output_name = \"plu-ft-v0-1ks\"\n",
    "save_model_as = \"safetensors\"\n",
    "max_train_steps = 1000\n",
    "optimizer_type = \"AdamW8bit\"\n",
    "mixed_precision = \"fp16\"\n",
    "\n",
    "basic_training = f\"\"\"\n",
    "accelerate launch --num_cpu_threads_per_process 1 train_db.py \\\n",
    "--pretrained_model_name_or_path={pretrained_model_name_or_path} \\\n",
    "--dataset_config={dataset_config} \\\n",
    "--output_dir={outupt_dir} \\\n",
    "--output_name={model_output_name} \\\n",
    "--save_model_as={save_model_as} \\\n",
    "--prior_loss_weight=1.0 \\\n",
    "--resolution=512 \\\n",
    "--max_train_steps={max_train_steps} \\\n",
    "--learning_rate=1e-6 \\\n",
    "--optimizer_type=\"{optimizer_type}\" \\\n",
    "--xformers \\\n",
    "--mixed_precision=\"{mixed_precision}\" \\\n",
    "--cache_latents \\\n",
    "--gradient_checkpointing \n",
    "\"\"\""
   ]
  },
  {
   "cell_type": "code",
   "execution_count": 6,
   "id": "00ad61b1-f8b1-4b64-be64-dbab5e1d91b1",
   "metadata": {},
   "outputs": [
    {
     "data": {
      "text/plain": [
       "['accelerate',\n",
       " 'launch',\n",
       " '--num_cpu_threads_per_process',\n",
       " '1',\n",
       " 'train_db.py',\n",
       " '--pretrained_model_name_or_path=/home/gazai/MyPrograms/a1111/stable-diffusion-webui/models/Stable-diffusion/AnythingV5Ink_ink.safetensors',\n",
       " '--dataset_config=/home/gazai/workspace/sd-scripts/configs/plu.toml',\n",
       " '--output_dir=/home/gazai/opt/DATA/model_output',\n",
       " '--output_name=plu-ft-v0-1ks',\n",
       " '--save_model_as=safetensors',\n",
       " '--prior_loss_weight=1.0',\n",
       " '--resolution=512',\n",
       " '--max_train_steps=1000',\n",
       " '--learning_rate=1e-6',\n",
       " '--optimizer_type=\"AdamW8bit\"',\n",
       " '--xformers',\n",
       " '--mixed_precision=\"fp16\"',\n",
       " '--cache_latents',\n",
       " '--gradient_checkpointing']"
      ]
     },
     "execution_count": 6,
     "metadata": {},
     "output_type": "execute_result"
    }
   ],
   "source": [
    "basic_training.split()"
   ]
  },
  {
   "cell_type": "code",
   "execution_count": null,
   "id": "8cf7a480-d877-45ca-9759-a54e6949c31f",
   "metadata": {},
   "outputs": [],
   "source": []
  }
 ],
 "metadata": {
  "kernelspec": {
   "display_name": "Python 3 (ipykernel)",
   "language": "python",
   "name": "python3"
  },
  "language_info": {
   "codemirror_mode": {
    "name": "ipython",
    "version": 3
   },
   "file_extension": ".py",
   "mimetype": "text/x-python",
   "name": "python",
   "nbconvert_exporter": "python",
   "pygments_lexer": "ipython3",
   "version": "3.11.5"
  }
 },
 "nbformat": 4,
 "nbformat_minor": 5
}
