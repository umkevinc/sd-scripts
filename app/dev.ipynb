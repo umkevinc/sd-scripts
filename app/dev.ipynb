{
 "cells": [
  {
   "cell_type": "code",
   "execution_count": 5,
   "id": "9216da57-4b5c-48cd-a570-55738e62f7de",
   "metadata": {},
   "outputs": [],
   "source": [
    "pretrained_model_name_or_path = \"/home/gazai/MyPrograms/a1111/stable-diffusion-webui/models/Stable-diffusion/AnythingV5Ink_ink.safetensors\"\n",
    "dataset_config = \"/home/gazai/workspace/sd-scripts/configs/plu.toml\"\n",
    "outupt_dir = \"/home/gazai/opt/DATA/model_output\"\n",
    "model_output_name = \"plu-ft-v0-1ks\"\n",
    "save_model_as = \"safetensors\"\n",
    "max_train_steps = 1000\n",
    "optimizer_type = \"AdamW8bit\"\n",
    "mixed_precision = \"fp16\"\n",
    "\n",
    "basic_training = f\"\"\"\n",
    "accelerate launch --num_cpu_threads_per_process 1 train_db.py \\\n",
    "--pretrained_model_name_or_path={pretrained_model_name_or_path} \\\n",
    "--dataset_config={dataset_config} \\\n",
    "--output_dir={outupt_dir} \\\n",
    "--output_name={model_output_name} \\\n",
    "--save_model_as={save_model_as} \\\n",
    "--prior_loss_weight=1.0 \\\n",
    "--resolution=512 \\\n",
    "--max_train_steps={max_train_steps} \\\n",
    "--learning_rate=1e-6 \\\n",
    "--optimizer_type=\"{optimizer_type}\" \\\n",
    "--xformers \\\n",
    "--mixed_precision=\"{mixed_precision}\" \\\n",
    "--cache_latents \\\n",
    "--gradient_checkpointing \n",
    "\"\"\""
   ]
  },
  {
   "cell_type": "code",
   "execution_count": 6,
   "id": "00ad61b1-f8b1-4b64-be64-dbab5e1d91b1",
   "metadata": {},
   "outputs": [
    {
     "data": {
      "text/plain": [
       "['accelerate',\n",
       " 'launch',\n",
       " '--num_cpu_threads_per_process',\n",
       " '1',\n",
       " 'train_db.py',\n",
       " '--pretrained_model_name_or_path=/home/gazai/MyPrograms/a1111/stable-diffusion-webui/models/Stable-diffusion/AnythingV5Ink_ink.safetensors',\n",
       " '--dataset_config=/home/gazai/workspace/sd-scripts/configs/plu.toml',\n",
       " '--output_dir=/home/gazai/opt/DATA/model_output',\n",
       " '--output_name=plu-ft-v0-1ks',\n",
       " '--save_model_as=safetensors',\n",
       " '--prior_loss_weight=1.0',\n",
       " '--resolution=512',\n",
       " '--max_train_steps=1000',\n",
       " '--learning_rate=1e-6',\n",
       " '--optimizer_type=\"AdamW8bit\"',\n",
       " '--xformers',\n",
       " '--mixed_precision=\"fp16\"',\n",
       " '--cache_latents',\n",
       " '--gradient_checkpointing']"
      ]
     },
     "execution_count": 6,
     "metadata": {},
     "output_type": "execute_result"
    }
   ],
   "source": [
    "basic_training.split()"
   ]
  },
  {
   "cell_type": "code",
   "execution_count": 1,
   "id": "8cf7a480-d877-45ca-9759-a54e6949c31f",
   "metadata": {},
   "outputs": [],
   "source": [
    "lst = ['/home/gazai/workspace/sd-scripts/venv/bin/python', 'sdxl_train_network.py', '--network_module=networks.lora', '--pretrained_model_name_or_path=/home/gazai/MyPrograms/a1111/stable-diffusion-webui/models/Stable-diffusion/bluePencilXL_v200.safetensors', '--train_data_dir=/home/gazai/opt/DATA/ft_inputs/plu_train_sdxl', '--reg_data_dir=reg_girl/reg_girl', '--output_dir=/home/gazai/opt/DATA/model_output/LORA', '--output_name=plu-sdxl-v0_last_e6_n160', '--caption_extension=.txt', '--shuffle_caption', '--prior_loss_weight=1', '--network_alpha=160', '--resolution=1024', '--enable_bucket', '--min_bucket_reso=768', '--max_bucket_reso=1024', '--train_batch_size=2', '--gradient_accumulation_steps=1', '--learning_rate=0.0001', '--unet_lr=0.0001', '--text_encoder_lr=0.00005', '--max_train_epochs=6', '--mixed_precision=fp16', '--save_precision=fp16', '--use_8bit_adam', '--xformers', '--save_every_n_epochs=2', '--save_model_as=safetensors', '--clip_skip=2', '--seed=420', '--flip_aug', '--color_aug', '--face_crop_aug_range=2.0,4.0', '--network_dim=160', '--max_token_length=150', '--lr_scheduler=cosine_with_restarts', '--training_comment=LORA:plu-sdxl-v0']"
   ]
  },
  {
   "cell_type": "code",
   "execution_count": 3,
   "id": "af28866c-42c9-4303-96ee-dea304ec52d1",
   "metadata": {},
   "outputs": [
    {
     "name": "stdout",
     "output_type": "stream",
     "text": [
      "/home/gazai/workspace/sd-scripts/venv/bin/python\n",
      "sdxl_train_network.py\n",
      "--network_module=networks.lora\n",
      "--pretrained_model_name_or_path=/home/gazai/MyPrograms/a1111/stable-diffusion-webui/models/Stable-diffusion/bluePencilXL_v200.safetensors\n",
      "--train_data_dir=/home/gazai/opt/DATA/ft_inputs/plu_train_sdxl\n",
      "--reg_data_dir=reg_girl/reg_girl\n",
      "--output_dir=/home/gazai/opt/DATA/model_output/LORA\n",
      "--output_name=plu-sdxl-v0_last_e6_n160\n",
      "--caption_extension=.txt\n",
      "--shuffle_caption\n",
      "--prior_loss_weight=1\n",
      "--network_alpha=160\n",
      "--resolution=1024\n",
      "--enable_bucket\n",
      "--min_bucket_reso=768\n",
      "--max_bucket_reso=1024\n",
      "--train_batch_size=2\n",
      "--gradient_accumulation_steps=1\n",
      "--learning_rate=0.0001\n",
      "--unet_lr=0.0001\n",
      "--text_encoder_lr=0.00005\n",
      "--max_train_epochs=6\n",
      "--mixed_precision=fp16\n",
      "--save_precision=fp16\n",
      "--use_8bit_adam\n",
      "--xformers\n",
      "--save_every_n_epochs=2\n",
      "--save_model_as=safetensors\n",
      "--clip_skip=2\n",
      "--seed=420\n",
      "--flip_aug\n",
      "--color_aug\n",
      "--face_crop_aug_range=2.0,4.0\n",
      "--network_dim=160\n",
      "--max_token_length=150\n",
      "--lr_scheduler=cosine_with_restarts\n",
      "--training_comment=LORA:plu-sdxl-v0\n"
     ]
    }
   ],
   "source": [
    "print('\\n'.join(lst))"
   ]
  },
  {
   "cell_type": "code",
   "execution_count": null,
   "id": "92daa189-77ad-44b7-bd76-c17861cf4d95",
   "metadata": {},
   "outputs": [],
   "source": []
  }
 ],
 "metadata": {
  "kernelspec": {
   "display_name": "Python 3 (ipykernel)",
   "language": "python",
   "name": "python3"
  },
  "language_info": {
   "codemirror_mode": {
    "name": "ipython",
    "version": 3
   },
   "file_extension": ".py",
   "mimetype": "text/x-python",
   "name": "python",
   "nbconvert_exporter": "python",
   "pygments_lexer": "ipython3",
   "version": "3.11.5"
  }
 },
 "nbformat": 4,
 "nbformat_minor": 5
}
